{
 "cells": [
  {
   "cell_type": "code",
   "execution_count": 2,
   "metadata": {},
   "outputs": [],
   "source": [
    "# import os \n",
    "# import string\n",
    "# import numpy \n",
    "# import json\n",
    "\n",
    "# lines_list = []\n",
    "\n",
    "# with open('/Users/aryamankhandelwal/Documents/Plaksha/Sem4/ILGC/data_collection/lfi/data2.txt', 'r') as file:\n",
    "#     for line in file:\n",
    "#         lines_list.append(line.strip())\n",
    "\n",
    "# payload_list = []\n",
    "\n",
    "# for index in range(len(lines_list)):\n",
    "#     val = {'id': f'identity_{index}', 'conversations': [{'from': 'human', 'value' :'Give me an LFI payload'}, {'from': 'gpt', 'value':lines_list[index]}]}\n",
    "#     payload_list.append(val)\n",
    "\n",
    "# output_file_path = '/Users/aryamankhandelwal/Documents/Plaksha/Sem4/ILGC/data_collection/lfi/payload.txt'\n",
    "# with open(output_file_path, 'w') as output_file:\n",
    "#     for i, item in enumerate(payload_list):\n",
    "#         output_file.write(str(item))\n",
    "#         if i < len(payload_list) - 1:\n",
    "#             output_file.write(',\\n')\n",
    "\n",
    "# print(\"Payload list has been saved to:\", output_file_path)\n"
   ]
  },
  {
   "cell_type": "code",
   "execution_count": 3,
   "metadata": {},
   "outputs": [],
   "source": [
    "# import random\n",
    "\n",
    "# data = []\n",
    "# used_payloads = []\n",
    "\n",
    "# with open('data2.txt', 'r') as f:\n",
    "#     payloads = f.readlines()[:15]\n",
    "#     for i, payload in enumerate(payloads):\n",
    "#         rand_idx = random.randint(0, len(payloads)-1)\n",
    "#         payload = payloads[rand_idx]\n",
    "#         while True:\n",
    "#             rand_idx = random.randint(0, len(payloads)-1)\n",
    "#             payload = payloads[rand_idx]\n",
    "#             if (payload not in used_payloads):\n",
    "#                 break\n",
    "#         used_payloads.append(payload)\n",
    "#         if i == 0:\n",
    "#             val_for_vicuna = {'id': f'identity_{i}', 'conversations': [{'from': 'human', 'value' :'Give me an LFI payload'}, {'from': 'gpt', 'value': payload.strip()}]}\n",
    "#             data.append(val_for_vicuna)\n",
    "#         else:\n",
    "#             val_for_vicuna = {'id': f'identity_{i}', 'conversations': [{'from': 'human', 'value' :'Give me another LFI payload'}, {'from': 'gpt', 'value': payload.strip()}]}\n",
    "#             data.append(val_for_vicuna)\n",
    "\n",
    "# output_file_path = './new_payload.txt'\n",
    "# with open(output_file_path, 'w') as output_file:\n",
    "#     for i, item in enumerate(data):\n",
    "#         output_file.write(str(item))\n",
    "#         if i < len(data) - 1:\n",
    "#             output_file.write(',\\n')\n",
    "\n",
    "# print(\"Payload list has been saved to:\", output_file_path)"
   ]
  },
  {
   "cell_type": "code",
   "execution_count": 4,
   "metadata": {},
   "outputs": [
    {
     "name": "stdout",
     "output_type": "stream",
     "text": [
      "Payload list has been saved to: ./new_payload.txt\n"
     ]
    }
   ],
   "source": [
    "import random\n",
    "import json\n",
    "\n",
    "data = []\n",
    "used_payloads = []\n",
    "output_file_path = './new_payload.txt'\n",
    "\n",
    "with open('data2.txt', 'r') as f:\n",
    "    payloads = f.readlines()\n",
    "    for i, payload in enumerate(payloads):\n",
    "\n",
    "        if i == 0:\n",
    "            val_for_vicuna = {\"id\": f\"identity_{i}\", \"conversations\": [{\"from\": \"human\", \"value\" :\"Give me an LFI payload\"}, {\"from\": \"gpt\", \"value\": f\"{payload.strip()}\"}]}\n",
    "            data.append(json.dumps(val_for_vicuna))\n",
    "        else:\n",
    "            val_for_vicuna = {\"id\": f\"identity_{i}\", \"conversations\": [{\"from\": \"human\", \"value\" :\"Give me another LFI payload\"}, {\"from\": \"gpt\", \"value\": f\"{payload.strip()}\"}]}\n",
    "            data.append(json.dumps(val_for_vicuna))\n",
    "\n",
    "\n",
    "with open(output_file_path, 'w') as output_file:\n",
    "      output_file.write(\"[\\n\")\n",
    "      for i, item in enumerate(data):\n",
    "        output_file.write(str(item))\n",
    "        if i < len(data) - 1:\n",
    "            output_file.write(',\\n')\n",
    "      output_file.write(']\\n')\n",
    "\n",
    "print(\"Payload list has been saved to:\", output_file_path)\n"
   ]
  },
  {
   "attachments": {},
   "cell_type": "markdown",
   "metadata": {},
   "source": [
    "Give me a payload that contains a specific file:"
   ]
  },
  {
   "cell_type": "code",
   "execution_count": 14,
   "metadata": {},
   "outputs": [],
   "source": [
    "with open('data2.txt', 'r') as f:\n",
    "    data = []\n",
    "    payloads = f.readlines()\n",
    "    output_file_path = './passwd_payload.txt'\n",
    "    for i, payload in enumerate(payloads):\n",
    "        if payload.__contains__('passwd'):\n",
    "            if i == 0:\n",
    "                val_for_vicuna = {\"id\": f\"identity_{i}\", \"conversations\": [{\"from\": \"human\", \"value\" :\"Give me an LFI payload for passwd\"}, {\"from\": \"gpt\", \"value\": f\"{payload.strip()}\"}]}\n",
    "                data.append(json.dumps(val_for_vicuna))\n",
    "            else:\n",
    "                val_for_vicuna = {\"id\": f\"identity_{i}\", \"conversations\": [{\"from\": \"human\", \"value\" :\"Give me another LFI payload for passwd\"}, {\"from\": \"gpt\", \"value\": f\"{payload.strip()}\"}]}\n",
    "                data.append(json.dumps(val_for_vicuna))\n",
    "\n",
    "with open(output_file_path, 'w') as output_file:\n",
    "      output_file.write(\"[\\n\")\n",
    "      for i, item in enumerate(data):\n",
    "        output_file.write(str(item))\n",
    "        if i < len(data) - 1:\n",
    "            output_file.write(',\\n')\n",
    "      output_file.write(']\\n')\n",
    "                \n",
    "    \n",
    "    "
   ]
  },
  {
   "cell_type": "code",
   "execution_count": null,
   "metadata": {},
   "outputs": [],
   "source": [
    "data = []\n",
    "file_payload = []\n"
   ]
  }
 ],
 "metadata": {
  "kernelspec": {
   "display_name": "dmpr",
   "language": "python",
   "name": "python3"
  },
  "language_info": {
   "codemirror_mode": {
    "name": "ipython",
    "version": 3
   },
   "file_extension": ".py",
   "mimetype": "text/x-python",
   "name": "python",
   "nbconvert_exporter": "python",
   "pygments_lexer": "ipython3",
   "version": "3.10.4"
  },
  "orig_nbformat": 4
 },
 "nbformat": 4,
 "nbformat_minor": 2
}
